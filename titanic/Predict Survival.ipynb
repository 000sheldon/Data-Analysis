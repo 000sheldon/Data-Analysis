{
 "cells": [
  {
   "cell_type": "code",
   "execution_count": 147,
   "metadata": {},
   "outputs": [],
   "source": [
    "import numpy as np\n",
    "import pandas as pd\n",
    "from sklearn.model_selection import train_test_split"
   ]
  },
  {
   "cell_type": "code",
   "execution_count": 148,
   "metadata": {},
   "outputs": [],
   "source": [
    "# import dat\n",
    "path = './data/titanic.csv'\n",
    "data = pd.read_csv(path)"
   ]
  },
  {
   "cell_type": "code",
   "execution_count": 149,
   "metadata": {},
   "outputs": [],
   "source": [
    "# data.head()\n",
    "# data.info()\n",
    "# data.descrive()"
   ]
  },
  {
   "cell_type": "markdown",
   "metadata": {},
   "source": [
    "##  第一步：数据清理"
   ]
  },
  {
   "cell_type": "code",
   "execution_count": 150,
   "metadata": {},
   "outputs": [],
   "source": [
    "# convert male to 0, female to 1\n",
    "data['sex'] = data['sex'].apply(lambda x: 1 if x=='female' else 0)\n",
    "\n",
    "# age column fill nan with median()\n",
    "data['age'].fillna(data['age'].median(), inplace = True)\n",
    "\n",
    "# add family columns\n",
    "data['family'] = data['sibsp'] + data['parch']\n",
    "\n",
    "# fare column fill nan with median()\n",
    "data['fare'].fillna(data['fare'].median(), inplace = True)\n",
    "\n",
    "# extract necessary features, ignoring unnucessary features\n",
    "features = ['survived','pclass', 'sex', 'age', 'family', 'fare']\n",
    "data = data[features]\n",
    "\n",
    "x_train, x_test, y_train, y_test = train_test_split(data.drop(columns=[\"survived\"]), data['survived'], test_size=0.3, shuffle=True)"
   ]
  },
  {
   "cell_type": "code",
   "execution_count": 151,
   "metadata": {},
   "outputs": [
    {
     "name": "stdout",
     "output_type": "stream",
     "text": [
      "<class 'pandas.core.frame.DataFrame'>\n",
      "Int64Index: 393 entries, 67 to 546\n",
      "Data columns (total 5 columns):\n",
      " #   Column  Non-Null Count  Dtype  \n",
      "---  ------  --------------  -----  \n",
      " 0   pclass  393 non-null    int64  \n",
      " 1   sex     393 non-null    int64  \n",
      " 2   age     393 non-null    float64\n",
      " 3   family  393 non-null    int64  \n",
      " 4   fare    393 non-null    float64\n",
      "dtypes: float64(2), int64(3)\n",
      "memory usage: 18.4 KB\n"
     ]
    }
   ],
   "source": [
    "x_test.info()"
   ]
  },
  {
   "cell_type": "markdown",
   "metadata": {},
   "source": [
    "## 模型一：逻辑回归模型"
   ]
  },
  {
   "cell_type": "code",
   "execution_count": 152,
   "metadata": {},
   "outputs": [],
   "source": [
    "from sklearn.linear_model import LogisticRegression\n",
    "\n",
    "logistic_model = LogisticRegression()\n",
    "logistic_model.fit(x_train, y_train)\n",
    "predictions = logistic_model.predict(x_test)"
   ]
  },
  {
   "cell_type": "code",
   "execution_count": 153,
   "metadata": {},
   "outputs": [
    {
     "name": "stdout",
     "output_type": "stream",
     "text": [
      "Logistic Model Accuracy: 0.8040712468193384\n"
     ]
    }
   ],
   "source": [
    "true_predict, false_predict = (predictions == y_test).value_counts()\n",
    "print(f'Logistic Model Accuracy: {true_predict/len(predictions)}')"
   ]
  },
  {
   "cell_type": "markdown",
   "metadata": {},
   "source": [
    "## 模型二：支持向量机"
   ]
  },
  {
   "cell_type": "code",
   "execution_count": 162,
   "metadata": {},
   "outputs": [],
   "source": [
    "from sklearn.svm import SVC\n",
    "\n",
    "svm_model = SVC(degree=5)\n",
    "svm_model.fit(x_train, y_train)\n",
    "predictions = svm_model.predict(x_test)"
   ]
  },
  {
   "cell_type": "code",
   "execution_count": 163,
   "metadata": {},
   "outputs": [
    {
     "name": "stdout",
     "output_type": "stream",
     "text": [
      "SVM Model Accuracy: 0.6641221374045801\n"
     ]
    }
   ],
   "source": [
    "true_predict, false_predict = (predictions == y_test).value_counts()\n",
    "print(f'SVM Model Accuracy: {true_predict/len(predictions)}')"
   ]
  },
  {
   "cell_type": "markdown",
   "metadata": {},
   "source": [
    "## 模型三：决策树模型"
   ]
  },
  {
   "cell_type": "code",
   "execution_count": 156,
   "metadata": {},
   "outputs": [],
   "source": [
    "from sklearn.tree import DecisionTreeClassifier\n",
    "\n",
    "decision_tree_model = DecisionTreeClassifier(criterion='entropy', max_depth=3, random_state=1)\n",
    "decision_tree_model.fit(x_train, y_train)\n",
    "predictions = decision_tree_model.predict(x_test)"
   ]
  },
  {
   "cell_type": "code",
   "execution_count": 157,
   "metadata": {},
   "outputs": [
    {
     "name": "stdout",
     "output_type": "stream",
     "text": [
      "Decision Tree Model Accuracy: 0.811704834605598\n"
     ]
    }
   ],
   "source": [
    "true_predict, false_predict = (predictions == y_test).value_counts()\n",
    "print(f'Decision Tree Model Accuracy: {true_predict/len(predictions)}')"
   ]
  },
  {
   "cell_type": "markdown",
   "metadata": {},
   "source": [
    "## 模型四：随机森林模型"
   ]
  },
  {
   "cell_type": "code",
   "execution_count": 158,
   "metadata": {},
   "outputs": [],
   "source": [
    "from sklearn.ensemble import RandomForestClassifier\n",
    "\n",
    "random_forest_model = RandomForestClassifier(criterion='entropy', n_estimators=10, max_depth=5, random_state=1)\n",
    "random_forest_model.fit(x_train, y_train)\n",
    "predictions = random_forest_model.predict(x_test)"
   ]
  },
  {
   "cell_type": "code",
   "execution_count": 159,
   "metadata": {},
   "outputs": [
    {
     "name": "stdout",
     "output_type": "stream",
     "text": [
      "Random Forest Model Accuracy: 0.8193384223918575\n"
     ]
    }
   ],
   "source": [
    "true_predict, false_predict = (predictions == y_test).value_counts()\n",
    "print(f'Random Forest Model Accuracy: {true_predict/len(predictions)}')"
   ]
  },
  {
   "cell_type": "markdown",
   "metadata": {},
   "source": [
    "### 结论: 不同模型的预测准确率在65%-81%之间，，除了支持向量机 其余三个模型都可以达到80%的准确率"
   ]
  }
 ],
 "metadata": {
  "kernelspec": {
   "display_name": "analysis",
   "language": "python",
   "name": "analysis"
  },
  "language_info": {
   "codemirror_mode": {
    "name": "ipython",
    "version": 3
   },
   "file_extension": ".py",
   "mimetype": "text/x-python",
   "name": "python",
   "nbconvert_exporter": "python",
   "pygments_lexer": "ipython3",
   "version": "3.7.6"
  }
 },
 "nbformat": 4,
 "nbformat_minor": 4
}
