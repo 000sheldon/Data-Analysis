{
 "cells": [
  {
   "cell_type": "code",
   "execution_count": 1,
   "metadata": {},
   "outputs": [],
   "source": [
    "# import necessary packages\n",
    "import numpy as np\n",
    "import pandas as pd\n",
    "import matplotlib as mpl\n",
    "import matplotlib.pyplot as plt\n",
    "from sklearn.linear_model import Lasso\n",
    "\n",
    "import tensorflow as tf\n",
    "from tensorflow.keras.models import Sequential\n",
    "from tensorflow.keras.layers import Dense, Activation\n",
    "\n",
    "mpl.style.use('seaborn')"
   ]
  },
  {
   "cell_type": "markdown",
   "metadata": {},
   "source": [
    "## Step 1: load data"
   ]
  },
  {
   "cell_type": "code",
   "execution_count": 2,
   "metadata": {},
   "outputs": [],
   "source": [
    "path = 'data1.csv'\n",
    "data = pd.read_csv(path)"
   ]
  },
  {
   "cell_type": "markdown",
   "metadata": {},
   "source": [
    "## step 2: process data \n",
    "* The dataset is clean enough, don't need to preprocess"
   ]
  },
  {
   "cell_type": "markdown",
   "metadata": {},
   "source": [
    "## Step 3: statistic analysis"
   ]
  },
  {
   "cell_type": "code",
   "execution_count": 3,
   "metadata": {},
   "outputs": [
    {
     "data": {
      "text/html": [
       "<div>\n",
       "<style scoped>\n",
       "    .dataframe tbody tr th:only-of-type {\n",
       "        vertical-align: middle;\n",
       "    }\n",
       "\n",
       "    .dataframe tbody tr th {\n",
       "        vertical-align: top;\n",
       "    }\n",
       "\n",
       "    .dataframe thead th {\n",
       "        text-align: right;\n",
       "    }\n",
       "</style>\n",
       "<table border=\"1\" class=\"dataframe\">\n",
       "  <thead>\n",
       "    <tr style=\"text-align: right;\">\n",
       "      <th></th>\n",
       "      <th>count</th>\n",
       "      <th>mean</th>\n",
       "      <th>std</th>\n",
       "      <th>min</th>\n",
       "      <th>50%</th>\n",
       "      <th>max</th>\n",
       "    </tr>\n",
       "  </thead>\n",
       "  <tbody>\n",
       "    <tr>\n",
       "      <th>x1</th>\n",
       "      <td>20.0</td>\n",
       "      <td>5.579520e+06</td>\n",
       "      <td>1.262195e+06</td>\n",
       "      <td>3831732.000</td>\n",
       "      <td>5308896.500</td>\n",
       "      <td>7599295.000</td>\n",
       "    </tr>\n",
       "    <tr>\n",
       "      <th>x2</th>\n",
       "      <td>20.0</td>\n",
       "      <td>7.650350e+02</td>\n",
       "      <td>5.956983e+02</td>\n",
       "      <td>181.540</td>\n",
       "      <td>565.940</td>\n",
       "      <td>2110.780</td>\n",
       "    </tr>\n",
       "    <tr>\n",
       "      <th>x3</th>\n",
       "      <td>20.0</td>\n",
       "      <td>2.370825e+03</td>\n",
       "      <td>1.919167e+03</td>\n",
       "      <td>448.190</td>\n",
       "      <td>1586.020</td>\n",
       "      <td>6882.850</td>\n",
       "    </tr>\n",
       "    <tr>\n",
       "      <th>x4</th>\n",
       "      <td>20.0</td>\n",
       "      <td>1.964469e+04</td>\n",
       "      <td>1.020302e+04</td>\n",
       "      <td>7571.000</td>\n",
       "      <td>15943.375</td>\n",
       "      <td>42049.140</td>\n",
       "    </tr>\n",
       "    <tr>\n",
       "      <th>x5</th>\n",
       "      <td>20.0</td>\n",
       "      <td>1.587095e+04</td>\n",
       "      <td>8.199771e+03</td>\n",
       "      <td>6212.700</td>\n",
       "      <td>12345.705</td>\n",
       "      <td>33156.830</td>\n",
       "    </tr>\n",
       "    <tr>\n",
       "      <th>x6</th>\n",
       "      <td>20.0</td>\n",
       "      <td>7.350514e+06</td>\n",
       "      <td>6.213419e+05</td>\n",
       "      <td>6370241.000</td>\n",
       "      <td>7314304.000</td>\n",
       "      <td>8323096.000</td>\n",
       "    </tr>\n",
       "    <tr>\n",
       "      <th>x7</th>\n",
       "      <td>20.0</td>\n",
       "      <td>1.712239e+03</td>\n",
       "      <td>1.184714e+03</td>\n",
       "      <td>525.710</td>\n",
       "      <td>1262.050</td>\n",
       "      <td>4454.550</td>\n",
       "    </tr>\n",
       "    <tr>\n",
       "      <th>x8</th>\n",
       "      <td>20.0</td>\n",
       "      <td>5.705799e+03</td>\n",
       "      <td>4.478400e+03</td>\n",
       "      <td>985.310</td>\n",
       "      <td>4104.585</td>\n",
       "      <td>15420.140</td>\n",
       "    </tr>\n",
       "    <tr>\n",
       "      <th>x9</th>\n",
       "      <td>20.0</td>\n",
       "      <td>1.294935e+02</td>\n",
       "      <td>5.050983e+01</td>\n",
       "      <td>60.620</td>\n",
       "      <td>113.530</td>\n",
       "      <td>228.460</td>\n",
       "    </tr>\n",
       "    <tr>\n",
       "      <th>x10</th>\n",
       "      <td>20.0</td>\n",
       "      <td>3.402165e+02</td>\n",
       "      <td>2.515779e+02</td>\n",
       "      <td>65.660</td>\n",
       "      <td>235.760</td>\n",
       "      <td>852.560</td>\n",
       "    </tr>\n",
       "    <tr>\n",
       "      <th>x11</th>\n",
       "      <td>20.0</td>\n",
       "      <td>1.033050e+02</td>\n",
       "      <td>5.513283e+00</td>\n",
       "      <td>97.500</td>\n",
       "      <td>102.450</td>\n",
       "      <td>120.000</td>\n",
       "    </tr>\n",
       "    <tr>\n",
       "      <th>x12</th>\n",
       "      <td>20.0</td>\n",
       "      <td>1.422200e+00</td>\n",
       "      <td>2.532348e-01</td>\n",
       "      <td>1.029</td>\n",
       "      <td>1.456</td>\n",
       "      <td>1.906</td>\n",
       "    </tr>\n",
       "    <tr>\n",
       "      <th>x13</th>\n",
       "      <td>20.0</td>\n",
       "      <td>1.727380e+04</td>\n",
       "      <td>1.110919e+04</td>\n",
       "      <td>5321.000</td>\n",
       "      <td>13267.000</td>\n",
       "      <td>41972.000</td>\n",
       "    </tr>\n",
       "    <tr>\n",
       "      <th>y</th>\n",
       "      <td>20.0</td>\n",
       "      <td>6.180840e+02</td>\n",
       "      <td>6.092545e+02</td>\n",
       "      <td>64.870</td>\n",
       "      <td>319.500</td>\n",
       "      <td>2088.140</td>\n",
       "    </tr>\n",
       "  </tbody>\n",
       "</table>\n",
       "</div>"
      ],
      "text/plain": [
       "     count          mean           std          min          50%          max\n",
       "x1    20.0  5.579520e+06  1.262195e+06  3831732.000  5308896.500  7599295.000\n",
       "x2    20.0  7.650350e+02  5.956983e+02      181.540      565.940     2110.780\n",
       "x3    20.0  2.370825e+03  1.919167e+03      448.190     1586.020     6882.850\n",
       "x4    20.0  1.964469e+04  1.020302e+04     7571.000    15943.375    42049.140\n",
       "x5    20.0  1.587095e+04  8.199771e+03     6212.700    12345.705    33156.830\n",
       "x6    20.0  7.350514e+06  6.213419e+05  6370241.000  7314304.000  8323096.000\n",
       "x7    20.0  1.712239e+03  1.184714e+03      525.710     1262.050     4454.550\n",
       "x8    20.0  5.705799e+03  4.478400e+03      985.310     4104.585    15420.140\n",
       "x9    20.0  1.294935e+02  5.050983e+01       60.620      113.530      228.460\n",
       "x10   20.0  3.402165e+02  2.515779e+02       65.660      235.760      852.560\n",
       "x11   20.0  1.033050e+02  5.513283e+00       97.500      102.450      120.000\n",
       "x12   20.0  1.422200e+00  2.532348e-01        1.029        1.456        1.906\n",
       "x13   20.0  1.727380e+04  1.110919e+04     5321.000    13267.000    41972.000\n",
       "y     20.0  6.180840e+02  6.092545e+02       64.870      319.500     2088.140"
      ]
     },
     "execution_count": 3,
     "metadata": {},
     "output_type": "execute_result"
    }
   ],
   "source": [
    "# 查看各属性的近20年的最大值、最小值、平均值、标准差\n",
    "data.describe(percentiles=[]).T"
   ]
  },
  {
   "cell_type": "code",
   "execution_count": 4,
   "metadata": {},
   "outputs": [
    {
     "data": {
      "text/html": [
       "<div>\n",
       "<style scoped>\n",
       "    .dataframe tbody tr th:only-of-type {\n",
       "        vertical-align: middle;\n",
       "    }\n",
       "\n",
       "    .dataframe tbody tr th {\n",
       "        vertical-align: top;\n",
       "    }\n",
       "\n",
       "    .dataframe thead th {\n",
       "        text-align: right;\n",
       "    }\n",
       "</style>\n",
       "<table border=\"1\" class=\"dataframe\">\n",
       "  <thead>\n",
       "    <tr style=\"text-align: right;\">\n",
       "      <th></th>\n",
       "      <th>x1</th>\n",
       "      <th>x2</th>\n",
       "      <th>x3</th>\n",
       "      <th>x4</th>\n",
       "      <th>x5</th>\n",
       "      <th>x6</th>\n",
       "      <th>x7</th>\n",
       "      <th>x8</th>\n",
       "      <th>x9</th>\n",
       "      <th>x10</th>\n",
       "      <th>x11</th>\n",
       "      <th>x12</th>\n",
       "      <th>x13</th>\n",
       "      <th>y</th>\n",
       "    </tr>\n",
       "  </thead>\n",
       "  <tbody>\n",
       "    <tr>\n",
       "      <th>x1</th>\n",
       "      <td>1.00</td>\n",
       "      <td>0.95</td>\n",
       "      <td>0.95</td>\n",
       "      <td>0.97</td>\n",
       "      <td>0.97</td>\n",
       "      <td>0.99</td>\n",
       "      <td>0.95</td>\n",
       "      <td>0.97</td>\n",
       "      <td>0.98</td>\n",
       "      <td>0.98</td>\n",
       "      <td>-0.29</td>\n",
       "      <td>0.94</td>\n",
       "      <td>0.96</td>\n",
       "      <td>0.94</td>\n",
       "    </tr>\n",
       "    <tr>\n",
       "      <th>x2</th>\n",
       "      <td>0.95</td>\n",
       "      <td>1.00</td>\n",
       "      <td>1.00</td>\n",
       "      <td>0.99</td>\n",
       "      <td>0.99</td>\n",
       "      <td>0.92</td>\n",
       "      <td>0.99</td>\n",
       "      <td>0.99</td>\n",
       "      <td>0.98</td>\n",
       "      <td>0.98</td>\n",
       "      <td>-0.13</td>\n",
       "      <td>0.89</td>\n",
       "      <td>1.00</td>\n",
       "      <td>0.98</td>\n",
       "    </tr>\n",
       "    <tr>\n",
       "      <th>x3</th>\n",
       "      <td>0.95</td>\n",
       "      <td>1.00</td>\n",
       "      <td>1.00</td>\n",
       "      <td>0.99</td>\n",
       "      <td>0.99</td>\n",
       "      <td>0.92</td>\n",
       "      <td>1.00</td>\n",
       "      <td>0.99</td>\n",
       "      <td>0.98</td>\n",
       "      <td>0.99</td>\n",
       "      <td>-0.15</td>\n",
       "      <td>0.89</td>\n",
       "      <td>1.00</td>\n",
       "      <td>0.99</td>\n",
       "    </tr>\n",
       "    <tr>\n",
       "      <th>x4</th>\n",
       "      <td>0.97</td>\n",
       "      <td>0.99</td>\n",
       "      <td>0.99</td>\n",
       "      <td>1.00</td>\n",
       "      <td>1.00</td>\n",
       "      <td>0.95</td>\n",
       "      <td>0.99</td>\n",
       "      <td>1.00</td>\n",
       "      <td>0.99</td>\n",
       "      <td>1.00</td>\n",
       "      <td>-0.19</td>\n",
       "      <td>0.91</td>\n",
       "      <td>1.00</td>\n",
       "      <td>0.99</td>\n",
       "    </tr>\n",
       "    <tr>\n",
       "      <th>x5</th>\n",
       "      <td>0.97</td>\n",
       "      <td>0.99</td>\n",
       "      <td>0.99</td>\n",
       "      <td>1.00</td>\n",
       "      <td>1.00</td>\n",
       "      <td>0.95</td>\n",
       "      <td>0.99</td>\n",
       "      <td>1.00</td>\n",
       "      <td>0.99</td>\n",
       "      <td>1.00</td>\n",
       "      <td>-0.18</td>\n",
       "      <td>0.90</td>\n",
       "      <td>0.99</td>\n",
       "      <td>0.99</td>\n",
       "    </tr>\n",
       "    <tr>\n",
       "      <th>x6</th>\n",
       "      <td>0.99</td>\n",
       "      <td>0.92</td>\n",
       "      <td>0.92</td>\n",
       "      <td>0.95</td>\n",
       "      <td>0.95</td>\n",
       "      <td>1.00</td>\n",
       "      <td>0.93</td>\n",
       "      <td>0.95</td>\n",
       "      <td>0.97</td>\n",
       "      <td>0.96</td>\n",
       "      <td>-0.34</td>\n",
       "      <td>0.95</td>\n",
       "      <td>0.94</td>\n",
       "      <td>0.91</td>\n",
       "    </tr>\n",
       "    <tr>\n",
       "      <th>x7</th>\n",
       "      <td>0.95</td>\n",
       "      <td>0.99</td>\n",
       "      <td>1.00</td>\n",
       "      <td>0.99</td>\n",
       "      <td>0.99</td>\n",
       "      <td>0.93</td>\n",
       "      <td>1.00</td>\n",
       "      <td>0.99</td>\n",
       "      <td>0.98</td>\n",
       "      <td>0.99</td>\n",
       "      <td>-0.15</td>\n",
       "      <td>0.89</td>\n",
       "      <td>1.00</td>\n",
       "      <td>0.99</td>\n",
       "    </tr>\n",
       "    <tr>\n",
       "      <th>x8</th>\n",
       "      <td>0.97</td>\n",
       "      <td>0.99</td>\n",
       "      <td>0.99</td>\n",
       "      <td>1.00</td>\n",
       "      <td>1.00</td>\n",
       "      <td>0.95</td>\n",
       "      <td>0.99</td>\n",
       "      <td>1.00</td>\n",
       "      <td>0.99</td>\n",
       "      <td>1.00</td>\n",
       "      <td>-0.15</td>\n",
       "      <td>0.90</td>\n",
       "      <td>1.00</td>\n",
       "      <td>0.99</td>\n",
       "    </tr>\n",
       "    <tr>\n",
       "      <th>x9</th>\n",
       "      <td>0.98</td>\n",
       "      <td>0.98</td>\n",
       "      <td>0.98</td>\n",
       "      <td>0.99</td>\n",
       "      <td>0.99</td>\n",
       "      <td>0.97</td>\n",
       "      <td>0.98</td>\n",
       "      <td>0.99</td>\n",
       "      <td>1.00</td>\n",
       "      <td>0.99</td>\n",
       "      <td>-0.23</td>\n",
       "      <td>0.91</td>\n",
       "      <td>0.99</td>\n",
       "      <td>0.98</td>\n",
       "    </tr>\n",
       "    <tr>\n",
       "      <th>x10</th>\n",
       "      <td>0.98</td>\n",
       "      <td>0.98</td>\n",
       "      <td>0.99</td>\n",
       "      <td>1.00</td>\n",
       "      <td>1.00</td>\n",
       "      <td>0.96</td>\n",
       "      <td>0.99</td>\n",
       "      <td>1.00</td>\n",
       "      <td>0.99</td>\n",
       "      <td>1.00</td>\n",
       "      <td>-0.17</td>\n",
       "      <td>0.90</td>\n",
       "      <td>0.99</td>\n",
       "      <td>0.99</td>\n",
       "    </tr>\n",
       "    <tr>\n",
       "      <th>x11</th>\n",
       "      <td>-0.29</td>\n",
       "      <td>-0.13</td>\n",
       "      <td>-0.15</td>\n",
       "      <td>-0.19</td>\n",
       "      <td>-0.18</td>\n",
       "      <td>-0.34</td>\n",
       "      <td>-0.15</td>\n",
       "      <td>-0.15</td>\n",
       "      <td>-0.23</td>\n",
       "      <td>-0.17</td>\n",
       "      <td>1.00</td>\n",
       "      <td>-0.43</td>\n",
       "      <td>-0.16</td>\n",
       "      <td>-0.12</td>\n",
       "    </tr>\n",
       "    <tr>\n",
       "      <th>x12</th>\n",
       "      <td>0.94</td>\n",
       "      <td>0.89</td>\n",
       "      <td>0.89</td>\n",
       "      <td>0.91</td>\n",
       "      <td>0.90</td>\n",
       "      <td>0.95</td>\n",
       "      <td>0.89</td>\n",
       "      <td>0.90</td>\n",
       "      <td>0.91</td>\n",
       "      <td>0.90</td>\n",
       "      <td>-0.43</td>\n",
       "      <td>1.00</td>\n",
       "      <td>0.90</td>\n",
       "      <td>0.87</td>\n",
       "    </tr>\n",
       "    <tr>\n",
       "      <th>x13</th>\n",
       "      <td>0.96</td>\n",
       "      <td>1.00</td>\n",
       "      <td>1.00</td>\n",
       "      <td>1.00</td>\n",
       "      <td>0.99</td>\n",
       "      <td>0.94</td>\n",
       "      <td>1.00</td>\n",
       "      <td>1.00</td>\n",
       "      <td>0.99</td>\n",
       "      <td>0.99</td>\n",
       "      <td>-0.16</td>\n",
       "      <td>0.90</td>\n",
       "      <td>1.00</td>\n",
       "      <td>0.99</td>\n",
       "    </tr>\n",
       "    <tr>\n",
       "      <th>y</th>\n",
       "      <td>0.94</td>\n",
       "      <td>0.98</td>\n",
       "      <td>0.99</td>\n",
       "      <td>0.99</td>\n",
       "      <td>0.99</td>\n",
       "      <td>0.91</td>\n",
       "      <td>0.99</td>\n",
       "      <td>0.99</td>\n",
       "      <td>0.98</td>\n",
       "      <td>0.99</td>\n",
       "      <td>-0.12</td>\n",
       "      <td>0.87</td>\n",
       "      <td>0.99</td>\n",
       "      <td>1.00</td>\n",
       "    </tr>\n",
       "  </tbody>\n",
       "</table>\n",
       "</div>"
      ],
      "text/plain": [
       "       x1    x2    x3    x4    x5    x6    x7    x8    x9   x10   x11   x12  \\\n",
       "x1   1.00  0.95  0.95  0.97  0.97  0.99  0.95  0.97  0.98  0.98 -0.29  0.94   \n",
       "x2   0.95  1.00  1.00  0.99  0.99  0.92  0.99  0.99  0.98  0.98 -0.13  0.89   \n",
       "x3   0.95  1.00  1.00  0.99  0.99  0.92  1.00  0.99  0.98  0.99 -0.15  0.89   \n",
       "x4   0.97  0.99  0.99  1.00  1.00  0.95  0.99  1.00  0.99  1.00 -0.19  0.91   \n",
       "x5   0.97  0.99  0.99  1.00  1.00  0.95  0.99  1.00  0.99  1.00 -0.18  0.90   \n",
       "x6   0.99  0.92  0.92  0.95  0.95  1.00  0.93  0.95  0.97  0.96 -0.34  0.95   \n",
       "x7   0.95  0.99  1.00  0.99  0.99  0.93  1.00  0.99  0.98  0.99 -0.15  0.89   \n",
       "x8   0.97  0.99  0.99  1.00  1.00  0.95  0.99  1.00  0.99  1.00 -0.15  0.90   \n",
       "x9   0.98  0.98  0.98  0.99  0.99  0.97  0.98  0.99  1.00  0.99 -0.23  0.91   \n",
       "x10  0.98  0.98  0.99  1.00  1.00  0.96  0.99  1.00  0.99  1.00 -0.17  0.90   \n",
       "x11 -0.29 -0.13 -0.15 -0.19 -0.18 -0.34 -0.15 -0.15 -0.23 -0.17  1.00 -0.43   \n",
       "x12  0.94  0.89  0.89  0.91  0.90  0.95  0.89  0.90  0.91  0.90 -0.43  1.00   \n",
       "x13  0.96  1.00  1.00  1.00  0.99  0.94  1.00  1.00  0.99  0.99 -0.16  0.90   \n",
       "y    0.94  0.98  0.99  0.99  0.99  0.91  0.99  0.99  0.98  0.99 -0.12  0.87   \n",
       "\n",
       "      x13     y  \n",
       "x1   0.96  0.94  \n",
       "x2   1.00  0.98  \n",
       "x3   1.00  0.99  \n",
       "x4   1.00  0.99  \n",
       "x5   0.99  0.99  \n",
       "x6   0.94  0.91  \n",
       "x7   1.00  0.99  \n",
       "x8   1.00  0.99  \n",
       "x9   0.99  0.98  \n",
       "x10  0.99  0.99  \n",
       "x11 -0.16 -0.12  \n",
       "x12  0.90  0.87  \n",
       "x13  1.00  0.99  \n",
       "y    0.99  1.00  "
      ]
     },
     "execution_count": 4,
     "metadata": {},
     "output_type": "execute_result"
    }
   ],
   "source": [
    "# 相关分析,初步判断因变量与解释变量之间是否有相关性\n",
    "np.round(data.corr(method='pearson'), 2)"
   ]
  },
  {
   "cell_type": "markdown",
   "metadata": {},
   "source": [
    "#### 结论一：居民消费价格指数（x1）与财政收入呈负相关，其余变量与财政收入显著正相关"
   ]
  },
  {
   "cell_type": "code",
   "execution_count": 5,
   "metadata": {},
   "outputs": [
    {
     "data": {
      "text/plain": [
       "Text(0.5, 1.0, 'Fiscal revenue growth graph')"
      ]
     },
     "execution_count": 5,
     "metadata": {},
     "output_type": "execute_result"
    },
    {
     "data": {
      "image/png": "[encoded data removed]",
      "text/plain": [
       "<Figure size 576x288 with 1 Axes>"
      ]
     },
     "metadata": {},
     "output_type": "display_data"
    }
   ],
   "source": [
    "# 财政收入增长曲线图\n",
    "fig, ax = plt.subplots(figsize=(8, 4))\n",
    "\n",
    "data['y'].plot(ax=ax)\n",
    "\n",
    "ax.set_xticks(range(0, 20, 2))\n",
    "ax.set_xticklabels(pd.period_range('1994', periods=20, freq='Y')[::2])\n",
    "ax.set_title('Fiscal revenue growth graph', fontsize=18)"
   ]
  },
  {
   "cell_type": "markdown",
   "metadata": {},
   "source": [
    "#### 结论二：财政收入增长明显"
   ]
  },
  {
   "cell_type": "markdown",
   "metadata": {},
   "source": [
    "## Step 4: build model"
   ]
  },
  {
   "cell_type": "code",
   "execution_count": 6,
   "metadata": {},
   "outputs": [
    {
     "name": "stdout",
     "output_type": "stream",
     "text": [
      "x1    -0.00\n",
      "x2    -0.32\n",
      "x3     0.43\n",
      "x4    -0.03\n",
      "x5     0.08\n",
      "x6     0.00\n",
      "x7     0.24\n",
      "x8    -0.04\n",
      "x9    -2.55\n",
      "x10    0.44\n",
      "x11    5.69\n",
      "x12   -0.00\n",
      "x13   -0.04\n",
      "dtype: float64\n"
     ]
    },
    {
     "name": "stderr",
     "output_type": "stream",
     "text": [
      "C:\\Users\\liu68\\anaconda3\\lib\\site-packages\\sklearn\\linear_model\\_coordinate_descent.py:476: ConvergenceWarning: Objective did not converge. You might want to increase the number of iterations. Duality gap: 16962.561833894746, tolerance: 705.2629842279999\n",
      "  positive)\n"
     ]
    }
   ],
   "source": [
    "# First, Select relating attributes by Lasso Model\n",
    "lasso_model = Lasso(alpha=1)\n",
    "lasso_model.fit(data.iloc[:,0:13], data['y'])\n",
    "\n",
    "corr_result = pd.Series(np.round(lasso_model.coef_, 2), index = ['x'+str(i) for i in range(1, 14)])\n",
    "print(corr_result)"
   ]
  },
  {
   "cell_type": "markdown",
   "metadata": {},
   "source": [
    "#### 结论三：社会从业人数、年末总人口、第三产业与第二产业产值比等因素的系数为0,剔除。"
   ]
  },
  {
   "cell_type": "code",
   "execution_count": 7,
   "metadata": {},
   "outputs": [],
   "source": [
    "# data.drop(labels=['x1', 'x6', 'x12'], axis=1, inplace=True)"
   ]
  },
  {
   "cell_type": "code",
   "execution_count": 8,
   "metadata": {},
   "outputs": [],
   "source": [
    "data.index = range(1994, 2014)"
   ]
  },
  {
   "cell_type": "code",
   "execution_count": 9,
   "metadata": {},
   "outputs": [],
   "source": [
    "# 建立灰度预测模型\n",
    "def GM11(x0):\n",
    "    \"\"\"This is grey forecasting function\"\"\"\n",
    "    x1 = x0.cumsum() \n",
    "    z1 = (x1[:len(x1)-1] + x1[1:])/2.0 \n",
    "    z1 = z1.reshape((len(z1),1))\n",
    "    B = np.append(-z1, np.ones_like(z1), axis = 1)\n",
    "    Yn = x0[1:].reshape((len(x0)-1, 1))\n",
    "    [[a],[b]] = np.dot(np.dot(np.linalg.inv(np.dot(B.T, B)), B.T), Yn) \n",
    "    f = lambda k: (x0[0]-b/a)*np.exp(-a*(k-1))-(x0[0]-b/a)*np.exp(-a*(k-2))\n",
    "    delta = np.abs(x0 - np.array([f(i) for i in range(1,len(x0)+1)]))\n",
    "    C = delta.std()/x0.std()\n",
    "    P = 1.0*(np.abs(delta - delta.mean()) < 0.6745*x0.std()).sum()/len(x0)\n",
    "    return f, a, b, x0[0], C, P "
   ]
  },
  {
   "cell_type": "code",
   "execution_count": 10,
   "metadata": {},
   "outputs": [],
   "source": [
    "# 预测2014， 2015相对应的值各个属性的值\n",
    "data.loc[2014] = None\n",
    "data.loc[2015] = None\n",
    "\n",
    "features = ['x2', 'x3', 'x4', 'x5', 'x7', 'x8', 'x9', 'x10', 'x11', 'x13']\n",
    "for item in features:\n",
    "    f = GM11(data[item][:20].values)[0]\n",
    "    data.loc[2014, item] = f(len(data)-1)\n",
    "    data[item][2015] = f(len(data))\n",
    "    data[item] = data[item].round(2)\n",
    "    \n",
    "# print(data[features+['y']])"
   ]
  },
  {
   "cell_type": "code",
   "execution_count": 11,
   "metadata": {},
   "outputs": [],
   "source": [
    "## prepare data for tarining\n",
    "data_train = data.iloc[:20, :]\n",
    "data_mean = data_train.mean()\n",
    "data_std = data_train.std()\n",
    "\n",
    "data_train = (data_train - data_mean) / data_train.std()\n",
    "x_train = data_train[features].values\n",
    "y_train = data_train['y'].values"
   ]
  },
  {
   "cell_type": "code",
   "execution_count": 12,
   "metadata": {},
   "outputs": [],
   "source": [
    "## 建立浅层神经网络模型 神经节点 10-16-4-1\n",
    "nn_model = Sequential()\n",
    "\n",
    "# nn_model.add(Dense(10, activation='sigmoid'， ),)\n",
    "nn_model.add(Dense(16, activation='relu', input_shape=(10,)))\n",
    "nn_model.add(Dense(4, activation='sigmoid'))\n",
    "nn_model.add(Dense(1))\n",
    "\n",
    "nn_model.compile(loss='mean_squared_error', optimizer='adam')\n"
   ]
  },
  {
   "cell_type": "code",
   "execution_count": 13,
   "metadata": {},
   "outputs": [
    {
     "name": "stdout",
     "output_type": "stream",
     "text": [
      "Model: \"sequential\"\n",
      "_________________________________________________________________\n",
      "Layer (type)                 Output Shape              Param #   \n",
      "=================================================================\n",
      "dense (Dense)                (None, 16)                176       \n",
      "_________________________________________________________________\n",
      "dense_1 (Dense)              (None, 4)                 68        \n",
      "_________________________________________________________________\n",
      "dense_2 (Dense)              (None, 1)                 5         \n",
      "=================================================================\n",
      "Total params: 249\n",
      "Trainable params: 249\n",
      "Non-trainable params: 0\n",
      "_________________________________________________________________\n"
     ]
    }
   ],
   "source": [
    "# training model\n",
    "nn_model.fit(x_train, y_train, epochs=2000, batch_size=4, verbose=0)\n",
    "nn_model.summary()"
   ]
  },
  {
   "cell_type": "code",
   "execution_count": 14,
   "metadata": {
    "scrolled": false
   },
   "outputs": [],
   "source": [
    "x = ((data[features] - data_mean[features]) / data_std[features]).values\n",
    "data['y_pred'] = nn_model.predict(x) * data_std['y'] + data_mean['y']"
   ]
  },
  {
   "cell_type": "markdown",
   "metadata": {},
   "source": [
    "## Step 5: visiualize result"
   ]
  },
  {
   "cell_type": "code",
   "execution_count": 15,
   "metadata": {},
   "outputs": [
    {
     "name": "stdout",
     "output_type": "stream",
     "text": [
      "2014    2098.618164\n",
      "2015    2331.381348\n",
      "Name: y_pred, dtype: float32\n"
     ]
    },
    {
     "data": {
      "image/png": "[encoded data removed]",
      "text/plain": [
       "<Figure size 720x288 with 1 Axes>"
      ]
     },
     "metadata": {},
     "output_type": "display_data"
    }
   ],
   "source": [
    "fig, ax = plt.subplots(figsize=(10, 4))\n",
    "\n",
    "data['y_pred'].plot(ax=ax, color='r')\n",
    "\n",
    "data['y'].plot(ax=ax, color='b')\n",
    "\n",
    "ax.set_title('Fiscal revenue growth graph', fontsize=18)\n",
    "tick = ax.set_xticks(range(1995, 2016, 2))\n",
    "print(data['y_pred'][-2:])"
   ]
  },
  {
   "cell_type": "markdown",
   "metadata": {},
   "source": [
    "#### 分析结论4：收入增长如图所示，红线的前段部分与蓝线重合的很好，说明模型已经学到了数据集中的特征，但训练次数为5000，存在这过拟合的风险。"
   ]
  },
  {
   "cell_type": "markdown",
   "metadata": {},
   "source": [
    "## 分析脑图"
   ]
  },
  {
   "cell_type": "markdown",
   "metadata": {},
   "source": [
    "!['aa'](fiscal_mindmap.png)"
   ]
  }
 ],
 "metadata": {
  "kernelspec": {
   "display_name": "analysis",
   "language": "python",
   "name": "analysis"
  },
  "language_info": {
   "codemirror_mode": {
    "name": "ipython",
    "version": 3
   },
   "file_extension": ".py",
   "mimetype": "text/x-python",
   "name": "python",
   "nbconvert_exporter": "python",
   "pygments_lexer": "ipython3",
   "version": "3.7.6"
  }
 },
 "nbformat": 4,
 "nbformat_minor": 4
}
